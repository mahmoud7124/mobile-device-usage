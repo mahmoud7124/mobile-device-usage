{
 "cells": [
  {
   "cell_type": "code",
   "execution_count": 1,
   "id": "feca20ed",
   "metadata": {
    "execution": {
     "iopub.execute_input": "2024-11-17T21:26:32.978782Z",
     "iopub.status.busy": "2024-11-17T21:26:32.978410Z",
     "iopub.status.idle": "2024-11-17T21:26:35.324792Z",
     "shell.execute_reply": "2024-11-17T21:26:35.323712Z"
    },
    "papermill": {
     "duration": 2.35538,
     "end_time": "2024-11-17T21:26:35.327195",
     "exception": false,
     "start_time": "2024-11-17T21:26:32.971815",
     "status": "completed"
    },
    "tags": []
   },
   "outputs": [],
   "source": [
    "import warnings\n",
    "warnings.filterwarnings('ignore')\n",
    "\n",
    "import numpy as np\n",
    "import pandas as pd\n",
    "import matplotlib.pyplot as plt\n",
    "import seaborn as sns"
   ]
  },
  {
   "cell_type": "code",
   "execution_count": 2,
   "id": "f8ebd8af",
   "metadata": {
    "execution": {
     "iopub.execute_input": "2024-11-17T21:26:35.338485Z",
     "iopub.status.busy": "2024-11-17T21:26:35.337532Z",
     "iopub.status.idle": "2024-11-17T21:26:35.357865Z",
     "shell.execute_reply": "2024-11-17T21:26:35.357087Z"
    },
    "papermill": {
     "duration": 0.02795,
     "end_time": "2024-11-17T21:26:35.360012",
     "exception": false,
     "start_time": "2024-11-17T21:26:35.332062",
     "status": "completed"
    },
    "tags": []
   },
   "outputs": [],
   "source": [
    "data = pd.read_csv('/kaggle/input/mobile-device-usage-and-user-behavior-dataset/user_behavior_dataset.csv')"
   ]
  },
  {
   "cell_type": "code",
   "execution_count": 3,
   "id": "84f1df5a",
   "metadata": {
    "execution": {
     "iopub.execute_input": "2024-11-17T21:26:35.370504Z",
     "iopub.status.busy": "2024-11-17T21:26:35.369858Z",
     "iopub.status.idle": "2024-11-17T21:26:35.391992Z",
     "shell.execute_reply": "2024-11-17T21:26:35.391110Z"
    },
    "papermill": {
     "duration": 0.02955,
     "end_time": "2024-11-17T21:26:35.394144",
     "exception": false,
     "start_time": "2024-11-17T21:26:35.364594",
     "status": "completed"
    },
    "tags": []
   },
   "outputs": [
    {
     "data": {
      "text/html": [
       "<div>\n",
       "<style scoped>\n",
       "    .dataframe tbody tr th:only-of-type {\n",
       "        vertical-align: middle;\n",
       "    }\n",
       "\n",
       "    .dataframe tbody tr th {\n",
       "        vertical-align: top;\n",
       "    }\n",
       "\n",
       "    .dataframe thead th {\n",
       "        text-align: right;\n",
       "    }\n",
       "</style>\n",
       "<table border=\"1\" class=\"dataframe\">\n",
       "  <thead>\n",
       "    <tr style=\"text-align: right;\">\n",
       "      <th></th>\n",
       "      <th>User ID</th>\n",
       "      <th>Device Model</th>\n",
       "      <th>Operating System</th>\n",
       "      <th>App Usage Time (min/day)</th>\n",
       "      <th>Screen On Time (hours/day)</th>\n",
       "      <th>Battery Drain (mAh/day)</th>\n",
       "      <th>Number of Apps Installed</th>\n",
       "      <th>Data Usage (MB/day)</th>\n",
       "      <th>Age</th>\n",
       "      <th>Gender</th>\n",
       "      <th>User Behavior Class</th>\n",
       "    </tr>\n",
       "  </thead>\n",
       "  <tbody>\n",
       "    <tr>\n",
       "      <th>0</th>\n",
       "      <td>1</td>\n",
       "      <td>Google Pixel 5</td>\n",
       "      <td>Android</td>\n",
       "      <td>393</td>\n",
       "      <td>6.4</td>\n",
       "      <td>1872</td>\n",
       "      <td>67</td>\n",
       "      <td>1122</td>\n",
       "      <td>40</td>\n",
       "      <td>Male</td>\n",
       "      <td>4</td>\n",
       "    </tr>\n",
       "    <tr>\n",
       "      <th>1</th>\n",
       "      <td>2</td>\n",
       "      <td>OnePlus 9</td>\n",
       "      <td>Android</td>\n",
       "      <td>268</td>\n",
       "      <td>4.7</td>\n",
       "      <td>1331</td>\n",
       "      <td>42</td>\n",
       "      <td>944</td>\n",
       "      <td>47</td>\n",
       "      <td>Female</td>\n",
       "      <td>3</td>\n",
       "    </tr>\n",
       "    <tr>\n",
       "      <th>2</th>\n",
       "      <td>3</td>\n",
       "      <td>Xiaomi Mi 11</td>\n",
       "      <td>Android</td>\n",
       "      <td>154</td>\n",
       "      <td>4.0</td>\n",
       "      <td>761</td>\n",
       "      <td>32</td>\n",
       "      <td>322</td>\n",
       "      <td>42</td>\n",
       "      <td>Male</td>\n",
       "      <td>2</td>\n",
       "    </tr>\n",
       "    <tr>\n",
       "      <th>3</th>\n",
       "      <td>4</td>\n",
       "      <td>Google Pixel 5</td>\n",
       "      <td>Android</td>\n",
       "      <td>239</td>\n",
       "      <td>4.8</td>\n",
       "      <td>1676</td>\n",
       "      <td>56</td>\n",
       "      <td>871</td>\n",
       "      <td>20</td>\n",
       "      <td>Male</td>\n",
       "      <td>3</td>\n",
       "    </tr>\n",
       "    <tr>\n",
       "      <th>4</th>\n",
       "      <td>5</td>\n",
       "      <td>iPhone 12</td>\n",
       "      <td>iOS</td>\n",
       "      <td>187</td>\n",
       "      <td>4.3</td>\n",
       "      <td>1367</td>\n",
       "      <td>58</td>\n",
       "      <td>988</td>\n",
       "      <td>31</td>\n",
       "      <td>Female</td>\n",
       "      <td>3</td>\n",
       "    </tr>\n",
       "  </tbody>\n",
       "</table>\n",
       "</div>"
      ],
      "text/plain": [
       "   User ID    Device Model Operating System  App Usage Time (min/day)  \\\n",
       "0        1  Google Pixel 5          Android                       393   \n",
       "1        2       OnePlus 9          Android                       268   \n",
       "2        3    Xiaomi Mi 11          Android                       154   \n",
       "3        4  Google Pixel 5          Android                       239   \n",
       "4        5       iPhone 12              iOS                       187   \n",
       "\n",
       "   Screen On Time (hours/day)  Battery Drain (mAh/day)  \\\n",
       "0                         6.4                     1872   \n",
       "1                         4.7                     1331   \n",
       "2                         4.0                      761   \n",
       "3                         4.8                     1676   \n",
       "4                         4.3                     1367   \n",
       "\n",
       "   Number of Apps Installed  Data Usage (MB/day)  Age  Gender  \\\n",
       "0                        67                 1122   40    Male   \n",
       "1                        42                  944   47  Female   \n",
       "2                        32                  322   42    Male   \n",
       "3                        56                  871   20    Male   \n",
       "4                        58                  988   31  Female   \n",
       "\n",
       "   User Behavior Class  \n",
       "0                    4  \n",
       "1                    3  \n",
       "2                    2  \n",
       "3                    3  \n",
       "4                    3  "
      ]
     },
     "execution_count": 3,
     "metadata": {},
     "output_type": "execute_result"
    }
   ],
   "source": [
    "data.head()"
   ]
  },
  {
   "cell_type": "code",
   "execution_count": 4,
   "id": "09a7fcb6",
   "metadata": {
    "execution": {
     "iopub.execute_input": "2024-11-17T21:26:35.405362Z",
     "iopub.status.busy": "2024-11-17T21:26:35.404791Z",
     "iopub.status.idle": "2024-11-17T21:26:35.429441Z",
     "shell.execute_reply": "2024-11-17T21:26:35.428439Z"
    },
    "papermill": {
     "duration": 0.032461,
     "end_time": "2024-11-17T21:26:35.431627",
     "exception": false,
     "start_time": "2024-11-17T21:26:35.399166",
     "status": "completed"
    },
    "tags": []
   },
   "outputs": [
    {
     "name": "stdout",
     "output_type": "stream",
     "text": [
      "<class 'pandas.core.frame.DataFrame'>\n",
      "RangeIndex: 700 entries, 0 to 699\n",
      "Data columns (total 11 columns):\n",
      " #   Column                      Non-Null Count  Dtype  \n",
      "---  ------                      --------------  -----  \n",
      " 0   User ID                     700 non-null    int64  \n",
      " 1   Device Model                700 non-null    object \n",
      " 2   Operating System            700 non-null    object \n",
      " 3   App Usage Time (min/day)    700 non-null    int64  \n",
      " 4   Screen On Time (hours/day)  700 non-null    float64\n",
      " 5   Battery Drain (mAh/day)     700 non-null    int64  \n",
      " 6   Number of Apps Installed    700 non-null    int64  \n",
      " 7   Data Usage (MB/day)         700 non-null    int64  \n",
      " 8   Age                         700 non-null    int64  \n",
      " 9   Gender                      700 non-null    object \n",
      " 10  User Behavior Class         700 non-null    int64  \n",
      "dtypes: float64(1), int64(7), object(3)\n",
      "memory usage: 60.3+ KB\n"
     ]
    }
   ],
   "source": [
    "data.info()"
   ]
  },
  {
   "cell_type": "code",
   "execution_count": 5,
   "id": "00a4c9b5",
   "metadata": {
    "execution": {
     "iopub.execute_input": "2024-11-17T21:26:35.443283Z",
     "iopub.status.busy": "2024-11-17T21:26:35.442457Z",
     "iopub.status.idle": "2024-11-17T21:26:35.450855Z",
     "shell.execute_reply": "2024-11-17T21:26:35.449941Z"
    },
    "papermill": {
     "duration": 0.016165,
     "end_time": "2024-11-17T21:26:35.452767",
     "exception": false,
     "start_time": "2024-11-17T21:26:35.436602",
     "status": "completed"
    },
    "tags": []
   },
   "outputs": [
    {
     "data": {
      "text/plain": [
       "0"
      ]
     },
     "execution_count": 5,
     "metadata": {},
     "output_type": "execute_result"
    }
   ],
   "source": [
    "data.duplicated().sum()"
   ]
  },
  {
   "cell_type": "code",
   "execution_count": 6,
   "id": "4fa6a4d0",
   "metadata": {
    "execution": {
     "iopub.execute_input": "2024-11-17T21:26:35.464231Z",
     "iopub.status.busy": "2024-11-17T21:26:35.463647Z",
     "iopub.status.idle": "2024-11-17T21:26:35.469990Z",
     "shell.execute_reply": "2024-11-17T21:26:35.469133Z"
    },
    "papermill": {
     "duration": 0.014172,
     "end_time": "2024-11-17T21:26:35.471964",
     "exception": false,
     "start_time": "2024-11-17T21:26:35.457792",
     "status": "completed"
    },
    "tags": []
   },
   "outputs": [
    {
     "data": {
      "text/plain": [
       "array(['Google Pixel 5', 'OnePlus 9', 'Xiaomi Mi 11', 'iPhone 12',\n",
       "       'Samsung Galaxy S21'], dtype=object)"
      ]
     },
     "execution_count": 6,
     "metadata": {},
     "output_type": "execute_result"
    }
   ],
   "source": [
    "data['Device Model'].unique()"
   ]
  },
  {
   "cell_type": "code",
   "execution_count": 7,
   "id": "528709a7",
   "metadata": {
    "execution": {
     "iopub.execute_input": "2024-11-17T21:26:35.483008Z",
     "iopub.status.busy": "2024-11-17T21:26:35.482675Z",
     "iopub.status.idle": "2024-11-17T21:26:35.489100Z",
     "shell.execute_reply": "2024-11-17T21:26:35.488107Z"
    },
    "papermill": {
     "duration": 0.014233,
     "end_time": "2024-11-17T21:26:35.491095",
     "exception": false,
     "start_time": "2024-11-17T21:26:35.476862",
     "status": "completed"
    },
    "tags": []
   },
   "outputs": [
    {
     "data": {
      "text/plain": [
       "array(['Android', 'iOS'], dtype=object)"
      ]
     },
     "execution_count": 7,
     "metadata": {},
     "output_type": "execute_result"
    }
   ],
   "source": [
    "data['Operating System'].unique()"
   ]
  },
  {
   "cell_type": "code",
   "execution_count": 8,
   "id": "cb6ef738",
   "metadata": {
    "execution": {
     "iopub.execute_input": "2024-11-17T21:26:35.503305Z",
     "iopub.status.busy": "2024-11-17T21:26:35.502990Z",
     "iopub.status.idle": "2024-11-17T21:26:35.508883Z",
     "shell.execute_reply": "2024-11-17T21:26:35.508001Z"
    },
    "papermill": {
     "duration": 0.01394,
     "end_time": "2024-11-17T21:26:35.510955",
     "exception": false,
     "start_time": "2024-11-17T21:26:35.497015",
     "status": "completed"
    },
    "tags": []
   },
   "outputs": [
    {
     "data": {
      "text/plain": [
       "5"
      ]
     },
     "execution_count": 8,
     "metadata": {},
     "output_type": "execute_result"
    }
   ],
   "source": [
    "data['User Behavior Class'].nunique()"
   ]
  },
  {
   "cell_type": "code",
   "execution_count": 9,
   "id": "3f38fc31",
   "metadata": {
    "execution": {
     "iopub.execute_input": "2024-11-17T21:26:35.522667Z",
     "iopub.status.busy": "2024-11-17T21:26:35.522100Z",
     "iopub.status.idle": "2024-11-17T21:26:35.552858Z",
     "shell.execute_reply": "2024-11-17T21:26:35.551948Z"
    },
    "papermill": {
     "duration": 0.038937,
     "end_time": "2024-11-17T21:26:35.554996",
     "exception": false,
     "start_time": "2024-11-17T21:26:35.516059",
     "status": "completed"
    },
    "tags": []
   },
   "outputs": [
    {
     "data": {
      "text/html": [
       "<div>\n",
       "<style scoped>\n",
       "    .dataframe tbody tr th:only-of-type {\n",
       "        vertical-align: middle;\n",
       "    }\n",
       "\n",
       "    .dataframe tbody tr th {\n",
       "        vertical-align: top;\n",
       "    }\n",
       "\n",
       "    .dataframe thead th {\n",
       "        text-align: right;\n",
       "    }\n",
       "</style>\n",
       "<table border=\"1\" class=\"dataframe\">\n",
       "  <thead>\n",
       "    <tr style=\"text-align: right;\">\n",
       "      <th></th>\n",
       "      <th>App Usage Time (min/day)</th>\n",
       "      <th>Screen On Time (hours/day)</th>\n",
       "      <th>Battery Drain (mAh/day)</th>\n",
       "      <th>Number of Apps Installed</th>\n",
       "      <th>Data Usage (MB/day)</th>\n",
       "      <th>Age</th>\n",
       "    </tr>\n",
       "  </thead>\n",
       "  <tbody>\n",
       "    <tr>\n",
       "      <th>count</th>\n",
       "      <td>700.000000</td>\n",
       "      <td>700.000000</td>\n",
       "      <td>700.000000</td>\n",
       "      <td>700.000000</td>\n",
       "      <td>700.000000</td>\n",
       "      <td>700.000000</td>\n",
       "    </tr>\n",
       "    <tr>\n",
       "      <th>mean</th>\n",
       "      <td>271.128571</td>\n",
       "      <td>5.272714</td>\n",
       "      <td>1525.158571</td>\n",
       "      <td>50.681429</td>\n",
       "      <td>929.742857</td>\n",
       "      <td>38.482857</td>\n",
       "    </tr>\n",
       "    <tr>\n",
       "      <th>std</th>\n",
       "      <td>177.199484</td>\n",
       "      <td>3.068584</td>\n",
       "      <td>819.136414</td>\n",
       "      <td>26.943324</td>\n",
       "      <td>640.451729</td>\n",
       "      <td>12.012916</td>\n",
       "    </tr>\n",
       "    <tr>\n",
       "      <th>min</th>\n",
       "      <td>30.000000</td>\n",
       "      <td>1.000000</td>\n",
       "      <td>302.000000</td>\n",
       "      <td>10.000000</td>\n",
       "      <td>102.000000</td>\n",
       "      <td>18.000000</td>\n",
       "    </tr>\n",
       "    <tr>\n",
       "      <th>25%</th>\n",
       "      <td>113.250000</td>\n",
       "      <td>2.500000</td>\n",
       "      <td>722.250000</td>\n",
       "      <td>26.000000</td>\n",
       "      <td>373.000000</td>\n",
       "      <td>28.000000</td>\n",
       "    </tr>\n",
       "    <tr>\n",
       "      <th>50%</th>\n",
       "      <td>227.500000</td>\n",
       "      <td>4.900000</td>\n",
       "      <td>1502.500000</td>\n",
       "      <td>49.000000</td>\n",
       "      <td>823.500000</td>\n",
       "      <td>38.000000</td>\n",
       "    </tr>\n",
       "    <tr>\n",
       "      <th>75%</th>\n",
       "      <td>434.250000</td>\n",
       "      <td>7.400000</td>\n",
       "      <td>2229.500000</td>\n",
       "      <td>74.000000</td>\n",
       "      <td>1341.000000</td>\n",
       "      <td>49.000000</td>\n",
       "    </tr>\n",
       "    <tr>\n",
       "      <th>max</th>\n",
       "      <td>598.000000</td>\n",
       "      <td>12.000000</td>\n",
       "      <td>2993.000000</td>\n",
       "      <td>99.000000</td>\n",
       "      <td>2497.000000</td>\n",
       "      <td>59.000000</td>\n",
       "    </tr>\n",
       "  </tbody>\n",
       "</table>\n",
       "</div>"
      ],
      "text/plain": [
       "       App Usage Time (min/day)  Screen On Time (hours/day)  \\\n",
       "count                700.000000                  700.000000   \n",
       "mean                 271.128571                    5.272714   \n",
       "std                  177.199484                    3.068584   \n",
       "min                   30.000000                    1.000000   \n",
       "25%                  113.250000                    2.500000   \n",
       "50%                  227.500000                    4.900000   \n",
       "75%                  434.250000                    7.400000   \n",
       "max                  598.000000                   12.000000   \n",
       "\n",
       "       Battery Drain (mAh/day)  Number of Apps Installed  Data Usage (MB/day)  \\\n",
       "count               700.000000                700.000000           700.000000   \n",
       "mean               1525.158571                 50.681429           929.742857   \n",
       "std                 819.136414                 26.943324           640.451729   \n",
       "min                 302.000000                 10.000000           102.000000   \n",
       "25%                 722.250000                 26.000000           373.000000   \n",
       "50%                1502.500000                 49.000000           823.500000   \n",
       "75%                2229.500000                 74.000000          1341.000000   \n",
       "max                2993.000000                 99.000000          2497.000000   \n",
       "\n",
       "              Age  \n",
       "count  700.000000  \n",
       "mean    38.482857  \n",
       "std     12.012916  \n",
       "min     18.000000  \n",
       "25%     28.000000  \n",
       "50%     38.000000  \n",
       "75%     49.000000  \n",
       "max     59.000000  "
      ]
     },
     "execution_count": 9,
     "metadata": {},
     "output_type": "execute_result"
    }
   ],
   "source": [
    "data.drop(['User ID','User Behavior Class'],axis=1).describe()"
   ]
  },
  {
   "cell_type": "code",
   "execution_count": 10,
   "id": "5b20e565",
   "metadata": {
    "execution": {
     "iopub.execute_input": "2024-11-17T21:26:35.567834Z",
     "iopub.status.busy": "2024-11-17T21:26:35.567038Z",
     "iopub.status.idle": "2024-11-17T21:26:35.572352Z",
     "shell.execute_reply": "2024-11-17T21:26:35.571430Z"
    },
    "papermill": {
     "duration": 0.013853,
     "end_time": "2024-11-17T21:26:35.574437",
     "exception": false,
     "start_time": "2024-11-17T21:26:35.560584",
     "status": "completed"
    },
    "tags": []
   },
   "outputs": [],
   "source": [
    "data.drop('User ID',axis=1,inplace=True)"
   ]
  },
  {
   "cell_type": "code",
   "execution_count": 11,
   "id": "4ec8e3fd",
   "metadata": {
    "execution": {
     "iopub.execute_input": "2024-11-17T21:26:35.587257Z",
     "iopub.status.busy": "2024-11-17T21:26:35.586496Z",
     "iopub.status.idle": "2024-11-17T21:26:35.594269Z",
     "shell.execute_reply": "2024-11-17T21:26:35.593360Z"
    },
    "papermill": {
     "duration": 0.016129,
     "end_time": "2024-11-17T21:26:35.596196",
     "exception": false,
     "start_time": "2024-11-17T21:26:35.580067",
     "status": "completed"
    },
    "tags": []
   },
   "outputs": [
    {
     "data": {
      "text/plain": [
       "Gender\n",
       "Male      364\n",
       "Female    336\n",
       "Name: count, dtype: int64"
      ]
     },
     "execution_count": 11,
     "metadata": {},
     "output_type": "execute_result"
    }
   ],
   "source": [
    "data['Gender'].value_counts()"
   ]
  },
  {
   "cell_type": "code",
   "execution_count": 12,
   "id": "386e1c0f",
   "metadata": {
    "execution": {
     "iopub.execute_input": "2024-11-17T21:26:35.608676Z",
     "iopub.status.busy": "2024-11-17T21:26:35.608183Z",
     "iopub.status.idle": "2024-11-17T21:26:35.615026Z",
     "shell.execute_reply": "2024-11-17T21:26:35.614157Z"
    },
    "papermill": {
     "duration": 0.015374,
     "end_time": "2024-11-17T21:26:35.617053",
     "exception": false,
     "start_time": "2024-11-17T21:26:35.601679",
     "status": "completed"
    },
    "tags": []
   },
   "outputs": [],
   "source": [
    "data['Operating System'].replace({'Android':1 , \"iOS\":0}, inplace=True)\n",
    "data['Gender'].replace({'Male':1 , \"Female\":0}, inplace=True)"
   ]
  },
  {
   "cell_type": "code",
   "execution_count": 13,
   "id": "d4de88da",
   "metadata": {
    "execution": {
     "iopub.execute_input": "2024-11-17T21:26:35.629554Z",
     "iopub.status.busy": "2024-11-17T21:26:35.629014Z",
     "iopub.status.idle": "2024-11-17T21:26:35.777819Z",
     "shell.execute_reply": "2024-11-17T21:26:35.776994Z"
    },
    "papermill": {
     "duration": 0.157509,
     "end_time": "2024-11-17T21:26:35.780113",
     "exception": false,
     "start_time": "2024-11-17T21:26:35.622604",
     "status": "completed"
    },
    "tags": []
   },
   "outputs": [],
   "source": [
    "from sklearn.preprocessing import LabelEncoder\n",
    "lb = LabelEncoder()\n",
    "data['Device Model'] = lb.fit_transform(data['Device Model'])"
   ]
  },
  {
   "cell_type": "code",
   "execution_count": 14,
   "id": "425c0854",
   "metadata": {
    "execution": {
     "iopub.execute_input": "2024-11-17T21:26:35.793237Z",
     "iopub.status.busy": "2024-11-17T21:26:35.792410Z",
     "iopub.status.idle": "2024-11-17T21:26:35.798354Z",
     "shell.execute_reply": "2024-11-17T21:26:35.797330Z"
    },
    "papermill": {
     "duration": 0.014583,
     "end_time": "2024-11-17T21:26:35.800531",
     "exception": false,
     "start_time": "2024-11-17T21:26:35.785948",
     "status": "completed"
    },
    "tags": []
   },
   "outputs": [],
   "source": [
    "x = data.drop('User Behavior Class' , axis=1)\n",
    "y = data['User Behavior Class']"
   ]
  },
  {
   "cell_type": "code",
   "execution_count": 15,
   "id": "95c9a313",
   "metadata": {
    "execution": {
     "iopub.execute_input": "2024-11-17T21:26:35.813378Z",
     "iopub.status.busy": "2024-11-17T21:26:35.813047Z",
     "iopub.status.idle": "2024-11-17T21:26:35.911053Z",
     "shell.execute_reply": "2024-11-17T21:26:35.910178Z"
    },
    "papermill": {
     "duration": 0.10707,
     "end_time": "2024-11-17T21:26:35.913351",
     "exception": false,
     "start_time": "2024-11-17T21:26:35.806281",
     "status": "completed"
    },
    "tags": []
   },
   "outputs": [],
   "source": [
    "# split model\n",
    "from sklearn.model_selection import train_test_split\n",
    "x_train , x_test , y_train , y_test = train_test_split(x , y , test_size=0.25)"
   ]
  },
  {
   "cell_type": "code",
   "execution_count": 16,
   "id": "958b0469",
   "metadata": {
    "execution": {
     "iopub.execute_input": "2024-11-17T21:26:35.926130Z",
     "iopub.status.busy": "2024-11-17T21:26:35.925740Z",
     "iopub.status.idle": "2024-11-17T21:26:36.081635Z",
     "shell.execute_reply": "2024-11-17T21:26:36.080577Z"
    },
    "papermill": {
     "duration": 0.164846,
     "end_time": "2024-11-17T21:26:36.084043",
     "exception": false,
     "start_time": "2024-11-17T21:26:35.919197",
     "status": "completed"
    },
    "tags": []
   },
   "outputs": [],
   "source": [
    "from sklearn.neighbors import KNeighborsClassifier\n",
    "model = KNeighborsClassifier()\n",
    "\n",
    "model.fit(x_train , y_train)\n",
    "predicted = model.predict(x_test)"
   ]
  },
  {
   "cell_type": "code",
   "execution_count": 17,
   "id": "5ed8fc99",
   "metadata": {
    "execution": {
     "iopub.execute_input": "2024-11-17T21:26:36.096927Z",
     "iopub.status.busy": "2024-11-17T21:26:36.096355Z",
     "iopub.status.idle": "2024-11-17T21:26:36.109494Z",
     "shell.execute_reply": "2024-11-17T21:26:36.108358Z"
    },
    "papermill": {
     "duration": 0.021696,
     "end_time": "2024-11-17T21:26:36.111494",
     "exception": false,
     "start_time": "2024-11-17T21:26:36.089798",
     "status": "completed"
    },
    "tags": []
   },
   "outputs": [
    {
     "name": "stdout",
     "output_type": "stream",
     "text": [
      "              precision    recall  f1-score   support\n",
      "\n",
      "           1       1.00      1.00      1.00        28\n",
      "           2       1.00      1.00      1.00        33\n",
      "           3       1.00      1.00      1.00        42\n",
      "           4       1.00      1.00      1.00        41\n",
      "           5       1.00      1.00      1.00        31\n",
      "\n",
      "    accuracy                           1.00       175\n",
      "   macro avg       1.00      1.00      1.00       175\n",
      "weighted avg       1.00      1.00      1.00       175\n",
      "\n"
     ]
    }
   ],
   "source": [
    "from sklearn.metrics import  classification_report\n",
    "print(classification_report(predicted , y_test))"
   ]
  },
  {
   "cell_type": "code",
   "execution_count": 18,
   "id": "8ed4183c",
   "metadata": {
    "execution": {
     "iopub.execute_input": "2024-11-17T21:26:36.124566Z",
     "iopub.status.busy": "2024-11-17T21:26:36.124223Z",
     "iopub.status.idle": "2024-11-17T21:26:36.131618Z",
     "shell.execute_reply": "2024-11-17T21:26:36.130655Z"
    },
    "papermill": {
     "duration": 0.016394,
     "end_time": "2024-11-17T21:26:36.133513",
     "exception": false,
     "start_time": "2024-11-17T21:26:36.117119",
     "status": "completed"
    },
    "tags": []
   },
   "outputs": [
    {
     "data": {
      "text/plain": [
       "1.0"
      ]
     },
     "execution_count": 18,
     "metadata": {},
     "output_type": "execute_result"
    }
   ],
   "source": [
    "from sklearn.metrics import  accuracy_score\n",
    "accuracy_score(predicted , y_test)"
   ]
  }
 ],
 "metadata": {
  "kaggle": {
   "accelerator": "none",
   "dataSources": [
    {
     "datasetId": 5784553,
     "sourceId": 9504237,
     "sourceType": "datasetVersion"
    }
   ],
   "dockerImageVersionId": 30786,
   "isGpuEnabled": false,
   "isInternetEnabled": true,
   "language": "python",
   "sourceType": "notebook"
  },
  "kernelspec": {
   "display_name": "Python 3",
   "language": "python",
   "name": "python3"
  },
  "language_info": {
   "codemirror_mode": {
    "name": "ipython",
    "version": 3
   },
   "file_extension": ".py",
   "mimetype": "text/x-python",
   "name": "python",
   "nbconvert_exporter": "python",
   "pygments_lexer": "ipython3",
   "version": "3.10.14"
  },
  "papermill": {
   "default_parameters": {},
   "duration": 6.235175,
   "end_time": "2024-11-17T21:26:36.659013",
   "environment_variables": {},
   "exception": null,
   "input_path": "__notebook__.ipynb",
   "output_path": "__notebook__.ipynb",
   "parameters": {},
   "start_time": "2024-11-17T21:26:30.423838",
   "version": "2.6.0"
  }
 },
 "nbformat": 4,
 "nbformat_minor": 5
}
